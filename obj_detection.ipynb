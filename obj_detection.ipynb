{
 "cells": [
  {
   "cell_type": "markdown",
   "metadata": {},
   "source": [
    "6. Object detection using Transfer Learning of CNN architectures"
   ]
  },
  {
   "cell_type": "markdown",
   "metadata": {},
   "source": [
    "a. Load in a pre-trained CNN model trained on a large dataset\n",
    "b. Freeze parameters (weights) in model’s lower convolutional layers\n",
    "c. Add custom classifier with several layers of trainable parameters to model\n",
    "d. Train classifier layers on training data available for task\n",
    "e. Fine-tune hyper parameters and unfreeze more layers as needed"
   ]
  },
  {
   "cell_type": "code",
   "execution_count": 1,
   "metadata": {},
   "outputs": [],
   "source": [
    "import tensorflow as tf\n",
    "from tensorflow import keras\n",
    "from tensorflow.keras.applications import VGG16\n",
    "from tensorflow.keras.models import Model\n",
    "from tensorflow.keras.layers import Dense, Flatten\n",
    "from tensorflow.keras.optimizers import Adam\n",
    "from tensorflow.keras.preprocessing.image import ImageDataGenerator\n",
    "import numpy as np"
   ]
  },
  {
   "cell_type": "markdown",
   "metadata": {},
   "source": [
    "Pre processing img data"
   ]
  },
  {
   "cell_type": "code",
   "execution_count": 8,
   "metadata": {},
   "outputs": [
    {
     "name": "stdout",
     "output_type": "stream",
     "text": [
      "Found 9144 images belonging to 102 classes.\n"
     ]
    }
   ],
   "source": [
    "dataset_dir = \"LP-IV-datasets/ObjectDetection_Ass6/caltech-101-img\"\n",
    "dataset_datagen = ImageDataGenerator(\n",
    "    rescale=1.0 / 255,\n",
    ")\n",
    "\n",
    "# here batch_size is the number of images in each batch\n",
    "batch_size = 2000\n",
    "dataset_generator = dataset_datagen.flow_from_directory(\n",
    "    dataset_dir,\n",
    "    target_size=(64, 64),\n",
    "    batch_size=batch_size,\n",
    "    class_mode='categorical'\n",
    ")"
   ]
  },
  {
   "cell_type": "markdown",
   "metadata": {},
   "source": [
    "Selecting first batch containing 2000 images as train and second batch containing 2000 images as test data"
   ]
  },
  {
   "cell_type": "code",
   "execution_count": 9,
   "metadata": {},
   "outputs": [
    {
     "name": "stdout",
     "output_type": "stream",
     "text": [
      "2000\n",
      "2000\n"
     ]
    }
   ],
   "source": [
    "x_train, y_train =  dataset_generator[0]\n",
    "x_test, y_test = dataset_generator[1]\n",
    "\n",
    "print(len(x_train))\n",
    "print(len(x_test))"
   ]
  },
  {
   "cell_type": "markdown",
   "metadata": {},
   "source": [
    "a. Load in a pre-trained CNN model trained on a large dataset"
   ]
  },
  {
   "cell_type": "code",
   "execution_count": 11,
   "metadata": {},
   "outputs": [],
   "source": [
    "# Load VGG16 without top layers\n",
    "weights_path = \"LP-IV-datasets/ObjectDetection_Ass6/vgg16_weights_tf_dim_ordering_tf_kernels_notop.h5\"\n",
    "base_model = VGG16(weights=weights_path, include_top=False, input_shape=(64, 64, 3))"
   ]
  },
  {
   "cell_type": "markdown",
   "metadata": {},
   "source": [
    "b. Freeze parameters (weights) in model’s lower convolutional layers"
   ]
  },
  {
   "cell_type": "code",
   "execution_count": 12,
   "metadata": {},
   "outputs": [],
   "source": [
    "for layer in base_model.layers:\n",
    "   layer.trainable = False"
   ]
  },
  {
   "cell_type": "markdown",
   "metadata": {},
   "source": [
    "c. Add custom classifier with several layers of trainable parameters to model"
   ]
  },
  {
   "cell_type": "code",
   "execution_count": 13,
   "metadata": {},
   "outputs": [],
   "source": [
    "x = Flatten()(base_model.output)\n",
    "x = Dense(64, activation='relu')(x)\n",
    "predictions = Dense(102, activation='softmax')(x)\n",
    "\n",
    "# Create the model\n",
    "model = Model(inputs=base_model.input, outputs=predictions)\n",
    "# Compile the model\n",
    "model.compile(optimizer=\"adam\", loss='categorical_crossentropy', metrics=['accuracy'])"
   ]
  },
  {
   "cell_type": "markdown",
   "metadata": {},
   "source": [
    "d. Train classifier layers on training data available for task"
   ]
  },
  {
   "cell_type": "code",
   "execution_count": 14,
   "metadata": {},
   "outputs": [
    {
     "name": "stdout",
     "output_type": "stream",
     "text": [
      "Epoch 1/10\n",
      "32/32 [==============================] - 54s 2s/step - loss: 3.9275 - accuracy: 0.1925 - val_loss: 3.4137 - val_accuracy: 0.3070\n",
      "Epoch 2/10\n",
      "32/32 [==============================] - 50s 2s/step - loss: 3.0175 - accuracy: 0.3635 - val_loss: 2.9754 - val_accuracy: 0.4010\n",
      "Epoch 3/10\n",
      "32/32 [==============================] - 50s 2s/step - loss: 2.4922 - accuracy: 0.4655 - val_loss: 2.6411 - val_accuracy: 0.4410\n",
      "Epoch 4/10\n",
      "32/32 [==============================] - 50s 2s/step - loss: 2.0801 - accuracy: 0.5425 - val_loss: 2.4430 - val_accuracy: 0.4710\n",
      "Epoch 5/10\n",
      "32/32 [==============================] - 49s 2s/step - loss: 1.7918 - accuracy: 0.6125 - val_loss: 2.2426 - val_accuracy: 0.5105\n",
      "Epoch 6/10\n",
      "32/32 [==============================] - 46s 1s/step - loss: 1.5508 - accuracy: 0.6550 - val_loss: 2.1221 - val_accuracy: 0.5265\n",
      "Epoch 7/10\n",
      "32/32 [==============================] - 44s 1s/step - loss: 1.3765 - accuracy: 0.6925 - val_loss: 2.0520 - val_accuracy: 0.5370\n",
      "Epoch 8/10\n",
      "32/32 [==============================] - 45s 1s/step - loss: 1.2165 - accuracy: 0.7345 - val_loss: 1.9709 - val_accuracy: 0.5475\n",
      "Epoch 9/10\n",
      "32/32 [==============================] - 44s 1s/step - loss: 1.0939 - accuracy: 0.7660 - val_loss: 1.9286 - val_accuracy: 0.5505\n",
      "Epoch 10/10\n",
      "32/32 [==============================] - 46s 1s/step - loss: 0.9903 - accuracy: 0.7860 - val_loss: 1.8940 - val_accuracy: 0.5625\n"
     ]
    },
    {
     "data": {
      "text/plain": [
       "<keras.callbacks.History at 0x2351a6b50a0>"
      ]
     },
     "execution_count": 14,
     "metadata": {},
     "output_type": "execute_result"
    }
   ],
   "source": [
    "# Train the model\n",
    "model.fit(x_train, y_train, batch_size=64, epochs=10, validation_data=(x_test, y_test))"
   ]
  },
  {
   "cell_type": "markdown",
   "metadata": {},
   "source": [
    "\n",
    "e. Fine-tune hyper parameters and unfreeze more layers as needed"
   ]
  },
  {
   "cell_type": "code",
   "execution_count": 15,
   "metadata": {},
   "outputs": [
    {
     "name": "stdout",
     "output_type": "stream",
     "text": [
      "Epoch 1/10\n",
      "32/32 [==============================] - 50s 2s/step - loss: 3.1251 - accuracy: 0.3565 - val_loss: 2.4223 - val_accuracy: 0.4765\n",
      "Epoch 2/10\n",
      "32/32 [==============================] - 49s 2s/step - loss: 1.8212 - accuracy: 0.5680 - val_loss: 1.9201 - val_accuracy: 0.5575\n",
      "Epoch 3/10\n",
      "32/32 [==============================] - 49s 2s/step - loss: 1.1514 - accuracy: 0.7055 - val_loss: 1.7635 - val_accuracy: 0.5845\n",
      "Epoch 4/10\n",
      "32/32 [==============================] - 50s 2s/step - loss: 0.7317 - accuracy: 0.8010 - val_loss: 1.6511 - val_accuracy: 0.6140\n",
      "Epoch 5/10\n",
      "32/32 [==============================] - 52s 2s/step - loss: 0.4264 - accuracy: 0.8805 - val_loss: 1.7731 - val_accuracy: 0.6000\n",
      "Epoch 6/10\n",
      "32/32 [==============================] - 51s 2s/step - loss: 0.2640 - accuracy: 0.9235 - val_loss: 1.7718 - val_accuracy: 0.6140\n",
      "Epoch 7/10\n",
      "32/32 [==============================] - 54s 2s/step - loss: 0.1991 - accuracy: 0.9490 - val_loss: 1.8504 - val_accuracy: 0.6180\n",
      "Epoch 8/10\n",
      "32/32 [==============================] - 53s 2s/step - loss: 0.0977 - accuracy: 0.9745 - val_loss: 1.8607 - val_accuracy: 0.6235\n",
      "Epoch 9/10\n",
      "32/32 [==============================] - 52s 2s/step - loss: 0.0916 - accuracy: 0.9750 - val_loss: 1.9493 - val_accuracy: 0.6290\n",
      "Epoch 10/10\n",
      "32/32 [==============================] - 49s 2s/step - loss: 0.0896 - accuracy: 0.9765 - val_loss: 1.8255 - val_accuracy: 0.6370\n"
     ]
    },
    {
     "data": {
      "text/plain": [
       "<keras.callbacks.History at 0x23521d80550>"
      ]
     },
     "execution_count": 15,
     "metadata": {},
     "output_type": "execute_result"
    }
   ],
   "source": [
    "base_model = VGG16(weights=weights_path, include_top=False, input_shape=(64, 64, 3))\n",
    "# freeze all layers first\n",
    "for layer in base_model.layers:\n",
    "   layer.trainable = False\n",
    "# unfreeze last 4 layers of base model\n",
    "for layer in base_model.layers[len(base_model.layers) - 2:]:\n",
    "   layer.trainable = True\n",
    "   \n",
    "# fine-tuning hyper parameters\n",
    "x = Flatten()(base_model.output)\n",
    "x = Dense(512, activation='relu')(x)\n",
    "x = tf.keras.layers.Dropout(0.3)(x)\n",
    "predictions = Dense(102, activation='softmax')(x)\n",
    "\n",
    "# Create the model\n",
    "model = Model(inputs=base_model.input, outputs=predictions)\n",
    "# Compile the model\n",
    "model.compile(optimizer=Adam(learning_rate=0.001), loss='categorical_crossentropy', metrics=['accuracy'])\n",
    "# training fine tuned model\n",
    "model.fit(x_train, y_train, batch_size=64, epochs=10, validation_data=(x_test, y_test))"
   ]
  },
  {
   "cell_type": "code",
   "execution_count": 16,
   "metadata": {},
   "outputs": [
    {
     "name": "stdout",
     "output_type": "stream",
     "text": [
      "63/63 [==============================] - 23s 358ms/step\n"
     ]
    }
   ],
   "source": [
    "import matplotlib.pyplot as plt\n",
    "predicted_value = model.predict(x_test)"
   ]
  },
  {
   "cell_type": "code",
   "execution_count": 17,
   "metadata": {},
   "outputs": [],
   "source": [
    "labels = list(dataset_generator.class_indices.keys())"
   ]
  },
  {
   "cell_type": "code",
   "execution_count": 18,
   "metadata": {},
   "outputs": [
    {
     "name": "stdout",
     "output_type": "stream",
     "text": [
      "Preditcted:  watch\n",
      "Actual:  watch\n"
     ]
    },
    {
     "data": {
      "image/png": "[encoded data removed]",
      "text/plain": [
       "<Figure size 640x480 with 1 Axes>"
      ]
     },
     "metadata": {},
     "output_type": "display_data"
    }
   ],
   "source": [
    "n = 1000\n",
    "plt.imshow(x_test[n])\n",
    "print(\"Preditcted: \",labels[np.argmax(predicted_value[n])])\n",
    "print(\"Actual: \", labels[np.argmax(y_test[n])])"
   ]
  },
  {
   "cell_type": "code",
   "execution_count": null,
   "metadata": {},
   "outputs": [],
   "source": []
  }
 ],
 "metadata": {
  "kernelspec": {
   "display_name": "base",
   "language": "python",
   "name": "python3"
  },
  "language_info": {
   "codemirror_mode": {
    "name": "ipython",
    "version": 3
   },
   "file_extension": ".py",
   "mimetype": "text/x-python",
   "name": "python",
   "nbconvert_exporter": "python",
   "pygments_lexer": "ipython3",
   "version": "3.9.12"
  }
 },
 "nbformat": 4,
 "nbformat_minor": 2
}
