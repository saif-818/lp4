{
 "cells": [
  {
   "cell_type": "code",
   "execution_count": 124,
   "id": "73276ba4",
   "metadata": {},
   "outputs": [],
   "source": [
    "import numpy as np\n",
    "import matplotlib.pyplot as plt\n",
    "from tensorflow.keras import Sequential, datasets\n",
    "from tensorflow.keras.layers import Dense, Conv2D, Flatten, MaxPooling2D, Dropout, BatchNormalization\n",
    "from keras.utils import to_categorical \n",
    "from tensorflow.keras.utils import plot_model"
   ]
  },
  {
   "cell_type": "code",
   "execution_count": 125,
   "id": "561600b9",
   "metadata": {},
   "outputs": [
    {
     "name": "stdout",
     "output_type": "stream",
     "text": [
      "2.10.0\n"
     ]
    }
   ],
   "source": [
    "import tensorflow as tf\n",
    "print(tf.__version__)"
   ]
  },
  {
   "cell_type": "code",
   "execution_count": 126,
   "id": "27f2a90b",
   "metadata": {},
   "outputs": [
    {
     "data": {
      "text/plain": [
       "[PhysicalDevice(name='/physical_device:CPU:0', device_type='CPU')]"
      ]
     },
     "execution_count": 126,
     "metadata": {},
     "output_type": "execute_result"
    }
   ],
   "source": [
    "tf.config.list_physical_devices()"
   ]
  },
  {
   "cell_type": "code",
   "execution_count": 127,
   "id": "0d495d4e",
   "metadata": {},
   "outputs": [],
   "source": [
    "(X_train,y_train),(X_test,y_test) = datasets.cifar10.load_data()"
   ]
  },
  {
   "cell_type": "code",
   "execution_count": 128,
   "id": "9a20a004",
   "metadata": {},
   "outputs": [
    {
     "data": {
      "text/plain": [
       "(50000, 1)"
      ]
     },
     "execution_count": 128,
     "metadata": {},
     "output_type": "execute_result"
    }
   ],
   "source": [
    "y_train.shape"
   ]
  },
  {
   "cell_type": "code",
   "execution_count": 129,
   "id": "bf242dce",
   "metadata": {},
   "outputs": [
    {
     "data": {
      "text/plain": [
       "array([6], dtype=uint8)"
      ]
     },
     "execution_count": 129,
     "metadata": {},
     "output_type": "execute_result"
    }
   ],
   "source": [
    "y_train[0]"
   ]
  },
  {
   "cell_type": "code",
   "execution_count": 130,
   "id": "456b71d8",
   "metadata": {},
   "outputs": [],
   "source": [
    "y_train = to_categorical(y_train) \n",
    "y_test = to_categorical(y_test) "
   ]
  },
  {
   "cell_type": "code",
   "execution_count": 131,
   "id": "ea6ecd7a",
   "metadata": {},
   "outputs": [
    {
     "data": {
      "text/plain": [
       "array([0., 0., 0., 0., 0., 0., 1., 0., 0., 0.], dtype=float32)"
      ]
     },
     "execution_count": 131,
     "metadata": {},
     "output_type": "execute_result"
    }
   ],
   "source": [
    "y_train[0]"
   ]
  },
  {
   "cell_type": "code",
   "execution_count": 132,
   "id": "ac29c70a",
   "metadata": {},
   "outputs": [],
   "source": [
    "labels_train = y_train.reshape(-1,)\n",
    "labels_test = y_test.reshape(-1,)"
   ]
  },
  {
   "cell_type": "code",
   "execution_count": 133,
   "id": "33ab7d6c",
   "metadata": {},
   "outputs": [],
   "source": [
    "y_classes = {\n",
    "0: \"airplane\", \n",
    "1: \"automobile\", \n",
    "2: \"bird\", \n",
    "3: \"cat\", \n",
    "4: \"deer\", \n",
    "5: \"dog\", \n",
    "6: \"frog\", \n",
    "7: \"horse\", \n",
    "8: \"ship\", \n",
    "9: \"truck\"}"
   ]
  },
  {
   "cell_type": "markdown",
   "id": "dbbf3f37",
   "metadata": {},
   "source": [
    "## Observe the dataset "
   ]
  },
  {
   "cell_type": "code",
   "execution_count": 134,
   "id": "f04bb234",
   "metadata": {},
   "outputs": [],
   "source": [
    "def show_image(x,y,index):\n",
    "    plt.figure(figsize=(15,2))\n",
    "    plt.imshow(x[index])\n",
    "    plt.xlabel(y_classes[list(y[index]).index(1)])"
   ]
  },
  {
   "cell_type": "code",
   "execution_count": 135,
   "id": "b0ce8fab",
   "metadata": {},
   "outputs": [
    {
     "data": {
      "image/png": "[encoded data removed]",
      "text/plain": [
       "<Figure size 1500x200 with 1 Axes>"
      ]
     },
     "metadata": {},
     "output_type": "display_data"
    }
   ],
   "source": [
    "show_image(X_train,y_train,9)"
   ]
  },
  {
   "cell_type": "markdown",
   "id": "899e7ea1",
   "metadata": {},
   "source": [
    "## Normalize the dataset "
   ]
  },
  {
   "cell_type": "code",
   "execution_count": 136,
   "id": "5b8d8ed2",
   "metadata": {},
   "outputs": [],
   "source": [
    "X_train = X_train.astype('float32')\n",
    "X_test = X_test.astype('float32')\n",
    "X_train = X_train/255\n",
    "X_test = X_test/255"
   ]
  },
  {
   "cell_type": "markdown",
   "id": "05cb0212",
   "metadata": {},
   "source": [
    "## Build the model "
   ]
  },
  {
   "cell_type": "code",
   "execution_count": 150,
   "id": "090f2919",
   "metadata": {},
   "outputs": [],
   "source": [
    "model = Sequential()\n",
    "model.add(Conv2D(filters=32,kernel_size=(3,3),activation=\"relu\",input_shape=(32,32,3),padding='same'))\n",
    "model.add(MaxPooling2D(pool_size=(2,2)))\n",
    "model.add(Dropout(0.2))\n",
    "model.add(BatchNormalization())\n",
    "\n",
    "model.add(Conv2D(filters=64,kernel_size=(3,3),activation=\"relu\",padding='same'))\n",
    "model.add(MaxPooling2D(pool_size=(2,2)))\n",
    "model.add(Dropout(0.2))\n",
    "model.add(BatchNormalization())\n",
    "\n",
    "model.add(Conv2D(filters=128,kernel_size=(3,3),activation=\"relu\",padding='same'))\n",
    "model.add(MaxPooling2D(pool_size=(2,2)))\n",
    "model.add(Dropout(0.2))\n",
    "model.add(BatchNormalization())\n",
    "\n",
    "model.add(Flatten())\n",
    "model.add(Dropout(0.2))\n",
    "\n",
    "model.add(Dense(units=1024, activation=\"relu\"))\n",
    "model.add(Dropout(0.2))\n",
    "model.add(BatchNormalization())\n",
    "\n",
    "model.add(Dense(units=10, activation=\"softmax\"))"
   ]
  },
  {
   "cell_type": "code",
   "execution_count": 151,
   "id": "482f37e3",
   "metadata": {},
   "outputs": [
    {
     "name": "stdout",
     "output_type": "stream",
     "text": [
      "You must install pydot (`pip install pydot`) and install graphviz (see instructions at https://graphviz.gitlab.io/download/) for plot_model to work.\n"
     ]
    }
   ],
   "source": [
    "plot_model(\n",
    "    model,\n",
    "    show_shapes=True,\n",
    "    expand_nested=True\n",
    ")"
   ]
  },
  {
   "cell_type": "markdown",
   "id": "df491d0a",
   "metadata": {},
   "source": [
    "## Compile the model "
   ]
  },
  {
   "cell_type": "code",
   "execution_count": 152,
   "id": "039a14e6",
   "metadata": {},
   "outputs": [],
   "source": [
    "model.compile(loss='categorical_crossentropy', optimizer='adam', metrics=['accuracy'])"
   ]
  },
  {
   "cell_type": "code",
   "execution_count": 153,
   "id": "c3b22003",
   "metadata": {},
   "outputs": [
    {
     "name": "stdout",
     "output_type": "stream",
     "text": [
      "Model: \"sequential_11\"\n",
      "_________________________________________________________________\n",
      " Layer (type)                Output Shape              Param #   \n",
      "=================================================================\n",
      " conv2d_27 (Conv2D)          (None, 32, 32, 32)        896       \n",
      "                                                                 \n",
      " max_pooling2d_27 (MaxPoolin  (None, 16, 16, 32)       0         \n",
      " g2D)                                                            \n",
      "                                                                 \n",
      " dropout_41 (Dropout)        (None, 16, 16, 32)        0         \n",
      "                                                                 \n",
      " batch_normalization_28 (Bat  (None, 16, 16, 32)       128       \n",
      " chNormalization)                                                \n",
      "                                                                 \n",
      " conv2d_28 (Conv2D)          (None, 16, 16, 64)        18496     \n",
      "                                                                 \n",
      " max_pooling2d_28 (MaxPoolin  (None, 8, 8, 64)         0         \n",
      " g2D)                                                            \n",
      "                                                                 \n",
      " dropout_42 (Dropout)        (None, 8, 8, 64)          0         \n",
      "                                                                 \n",
      " batch_normalization_29 (Bat  (None, 8, 8, 64)         256       \n",
      " chNormalization)                                                \n",
      "                                                                 \n",
      " conv2d_29 (Conv2D)          (None, 8, 8, 128)         73856     \n",
      "                                                                 \n",
      " max_pooling2d_29 (MaxPoolin  (None, 4, 4, 128)        0         \n",
      " g2D)                                                            \n",
      "                                                                 \n",
      " dropout_43 (Dropout)        (None, 4, 4, 128)         0         \n",
      "                                                                 \n",
      " batch_normalization_30 (Bat  (None, 4, 4, 128)        512       \n",
      " chNormalization)                                                \n",
      "                                                                 \n",
      " flatten_9 (Flatten)         (None, 2048)              0         \n",
      "                                                                 \n",
      " dropout_44 (Dropout)        (None, 2048)              0         \n",
      "                                                                 \n",
      " dense_23 (Dense)            (None, 1024)              2098176   \n",
      "                                                                 \n",
      " dropout_45 (Dropout)        (None, 1024)              0         \n",
      "                                                                 \n",
      " batch_normalization_31 (Bat  (None, 1024)             4096      \n",
      " chNormalization)                                                \n",
      "                                                                 \n",
      " dense_24 (Dense)            (None, 10)                10250     \n",
      "                                                                 \n",
      "=================================================================\n",
      "Total params: 2,206,666\n",
      "Trainable params: 2,204,170\n",
      "Non-trainable params: 2,496\n",
      "_________________________________________________________________\n"
     ]
    }
   ],
   "source": [
    "model.summary()"
   ]
  },
  {
   "cell_type": "code",
   "execution_count": 154,
   "id": "e977af9f",
   "metadata": {},
   "outputs": [
    {
     "name": "stdout",
     "output_type": "stream",
     "text": [
      "Epoch 1/25\n",
      "782/782 [==============================] - 53s 67ms/step - loss: 1.5677 - accuracy: 0.4660 - val_loss: 1.3427 - val_accuracy: 0.5330\n",
      "Epoch 2/25\n",
      "782/782 [==============================] - 58s 75ms/step - loss: 1.1231 - accuracy: 0.6026 - val_loss: 1.3764 - val_accuracy: 0.5310\n",
      "Epoch 3/25\n",
      "782/782 [==============================] - 61s 78ms/step - loss: 0.9567 - accuracy: 0.6639 - val_loss: 1.5122 - val_accuracy: 0.5168\n",
      "Epoch 4/25\n",
      "782/782 [==============================] - 64s 82ms/step - loss: 0.8473 - accuracy: 0.7006 - val_loss: 1.0818 - val_accuracy: 0.6329\n",
      "Epoch 5/25\n",
      "782/782 [==============================] - 66s 84ms/step - loss: 0.7742 - accuracy: 0.7278 - val_loss: 0.8021 - val_accuracy: 0.7215\n",
      "Epoch 6/25\n",
      "782/782 [==============================] - 61s 78ms/step - loss: 0.7226 - accuracy: 0.7452 - val_loss: 0.8766 - val_accuracy: 0.7037\n",
      "Epoch 7/25\n",
      "782/782 [==============================] - 61s 79ms/step - loss: 0.6725 - accuracy: 0.7638 - val_loss: 0.7497 - val_accuracy: 0.7458\n",
      "Epoch 8/25\n",
      "782/782 [==============================] - 63s 81ms/step - loss: 0.6346 - accuracy: 0.7764 - val_loss: 0.6740 - val_accuracy: 0.7696\n",
      "Epoch 9/25\n",
      "782/782 [==============================] - 63s 81ms/step - loss: 0.5947 - accuracy: 0.7900 - val_loss: 0.7414 - val_accuracy: 0.7491\n",
      "Epoch 10/25\n",
      "782/782 [==============================] - 65s 84ms/step - loss: 0.5666 - accuracy: 0.7974 - val_loss: 0.6563 - val_accuracy: 0.7792\n",
      "Epoch 11/25\n",
      "782/782 [==============================] - 67s 85ms/step - loss: 0.5410 - accuracy: 0.8103 - val_loss: 0.6801 - val_accuracy: 0.7712\n",
      "Epoch 12/25\n",
      "782/782 [==============================] - 64s 82ms/step - loss: 0.5104 - accuracy: 0.8194 - val_loss: 0.6532 - val_accuracy: 0.7806\n",
      "Epoch 13/25\n",
      "782/782 [==============================] - 62s 80ms/step - loss: 0.4840 - accuracy: 0.8297 - val_loss: 0.7416 - val_accuracy: 0.7589\n",
      "Epoch 14/25\n",
      "782/782 [==============================] - 61s 78ms/step - loss: 0.4689 - accuracy: 0.8335 - val_loss: 0.6821 - val_accuracy: 0.7746\n",
      "Epoch 15/25\n",
      "782/782 [==============================] - 62s 79ms/step - loss: 0.4538 - accuracy: 0.8397 - val_loss: 0.6789 - val_accuracy: 0.7727\n",
      "Epoch 16/25\n",
      "782/782 [==============================] - 64s 82ms/step - loss: 0.4336 - accuracy: 0.8461 - val_loss: 0.6072 - val_accuracy: 0.7986\n",
      "Epoch 17/25\n",
      "782/782 [==============================] - 66s 85ms/step - loss: 0.4180 - accuracy: 0.8527 - val_loss: 0.6946 - val_accuracy: 0.7793\n",
      "Epoch 18/25\n",
      "782/782 [==============================] - 68s 87ms/step - loss: 0.3939 - accuracy: 0.8600 - val_loss: 0.6177 - val_accuracy: 0.7971\n",
      "Epoch 19/25\n",
      "782/782 [==============================] - 70s 90ms/step - loss: 0.3846 - accuracy: 0.8648 - val_loss: 0.6226 - val_accuracy: 0.7987\n",
      "Epoch 20/25\n",
      "782/782 [==============================] - 70s 90ms/step - loss: 0.3764 - accuracy: 0.8664 - val_loss: 0.6327 - val_accuracy: 0.7884\n",
      "Epoch 21/25\n",
      "782/782 [==============================] - 75s 96ms/step - loss: 0.3664 - accuracy: 0.8697 - val_loss: 0.6189 - val_accuracy: 0.7970\n",
      "Epoch 22/25\n",
      "782/782 [==============================] - 71s 91ms/step - loss: 0.3588 - accuracy: 0.8729 - val_loss: 0.5977 - val_accuracy: 0.8115\n",
      "Epoch 23/25\n",
      "782/782 [==============================] - 71s 91ms/step - loss: 0.3458 - accuracy: 0.8759 - val_loss: 0.6206 - val_accuracy: 0.8033\n",
      "Epoch 24/25\n",
      "782/782 [==============================] - 76s 97ms/step - loss: 0.3320 - accuracy: 0.8827 - val_loss: 0.6815 - val_accuracy: 0.7902\n",
      "Epoch 25/25\n",
      "782/782 [==============================] - 74s 95ms/step - loss: 0.3232 - accuracy: 0.8864 - val_loss: 0.6235 - val_accuracy: 0.8041\n"
     ]
    }
   ],
   "source": [
    "history = model.fit(X_train, y_train, validation_data = (X_test,y_test), epochs=25, batch_size=64)"
   ]
  },
  {
   "cell_type": "code",
   "execution_count": 148,
   "id": "568de34b",
   "metadata": {},
   "outputs": [
    {
     "name": "stdout",
     "output_type": "stream",
     "text": [
      "Accuracy: 80.74%\n"
     ]
    }
   ],
   "source": [
    "scores = model.evaluate(X_test,y_test,verbose=0)\n",
    "print(\"Accuracy: %.2f%%\" % (scores[1]*100))"
   ]
  },
  {
   "cell_type": "code",
   "execution_count": 115,
   "id": "cc527c71",
   "metadata": {},
   "outputs": [
    {
     "name": "stdout",
     "output_type": "stream",
     "text": [
      "313/313 [==============================] - 3s 9ms/step - loss: 0.7748 - accuracy: 0.7314\n",
      "Loss:  0.7747704982757568\n",
      "Accuracy:  0.7314000129699707\n"
     ]
    }
   ],
   "source": [
    "test_loss, test_acc = model.evaluate(X_test, y_test)\n",
    "print(\"Loss: \", test_loss)\n",
    "print(\"Accuracy: \", test_acc)"
   ]
  },
  {
   "cell_type": "code",
   "execution_count": 157,
   "id": "52c5a397",
   "metadata": {},
   "outputs": [],
   "source": [
    "# plot diagnostic learning curves\n",
    "def summarize_diagnostics(history):\n",
    " # plot loss\n",
    " plt.subplot(211)\n",
    " plt.title('Cross Entropy Loss')\n",
    " plt.plot(history.history['loss'], color='blue', label='train')\n",
    " plt.plot(history.history['val_loss'], color='orange', label='test')\n",
    " # plot accuracy\n",
    " plt.subplot(212)\n",
    " plt.title('Classification Accuracy')\n",
    " plt.plot(history.history['accuracy'], color='blue', label='train')\n",
    " plt.plot(history.history['val_accuracy'], color='orange', label='test')"
   ]
  },
  {
   "cell_type": "code",
   "execution_count": 158,
   "id": "28e155c1",
   "metadata": {},
   "outputs": [
    {
     "data": {
      "image/png": "[encoded data removed]",
      "text/plain": [
       "<Figure size 640x480 with 2 Axes>"
      ]
     },
     "metadata": {},
     "output_type": "display_data"
    }
   ],
   "source": [
    "summarize_diagnostics(history)"
   ]
  },
  {
   "cell_type": "markdown",
   "id": "61952629",
   "metadata": {},
   "source": [
    "## Transfer Learning for Object Detection"
   ]
  },
  {
   "cell_type": "code",
   "execution_count": 175,
   "id": "767007f4",
   "metadata": {},
   "outputs": [],
   "source": [
    "from tensorflow.keras.applications import VGG16"
   ]
  },
  {
   "cell_type": "markdown",
   "id": "a2cc3e02",
   "metadata": {},
   "source": [
    "### Load Pretrained CNN Model"
   ]
  },
  {
   "cell_type": "code",
   "execution_count": 187,
   "id": "5f3ea172",
   "metadata": {},
   "outputs": [],
   "source": [
    "base_model = VGG16(weights='imagenet', include_top=False, input_shape=(32, 32, 3))"
   ]
  },
  {
   "cell_type": "markdown",
   "id": "0dfce835",
   "metadata": {},
   "source": [
    "### Freeze lower convolution layers"
   ]
  },
  {
   "cell_type": "code",
   "execution_count": 188,
   "id": "8fc80268",
   "metadata": {},
   "outputs": [],
   "source": [
    "for layer in base_model.layers:\n",
    "    layer.trainable = False"
   ]
  },
  {
   "cell_type": "markdown",
   "id": "d83abcaa",
   "metadata": {},
   "source": [
    "###  Add custom classifier"
   ]
  },
  {
   "cell_type": "code",
   "execution_count": 189,
   "id": "8fb08a13",
   "metadata": {},
   "outputs": [],
   "source": [
    "model_transfer = Sequential()\n",
    "model_transfer.add(base_model)\n",
    "model_transfer.add(Flatten())\n",
    "model_transfer.add(Dense(512, activation='relu'))\n",
    "model_transfer.add(Dropout(0.2))\n",
    "model_transfer.add(Dense(256, activation='relu'))\n",
    "model_transfer.add(Dropout(0.2))\n",
    "model_transfer.add(Dense(10, activation='softmax'))"
   ]
  },
  {
   "cell_type": "code",
   "execution_count": 190,
   "id": "bef3413f",
   "metadata": {},
   "outputs": [],
   "source": [
    "model_transfer.compile(loss='categorical_crossentropy', optimizer='adam', metrics=['accuracy'])"
   ]
  },
  {
   "cell_type": "code",
   "execution_count": 191,
   "id": "4fbd05d3",
   "metadata": {},
   "outputs": [
    {
     "name": "stdout",
     "output_type": "stream",
     "text": [
      "Model: \"sequential_19\"\n",
      "_________________________________________________________________\n",
      " Layer (type)                Output Shape              Param #   \n",
      "=================================================================\n",
      " vgg16 (Functional)          (None, 1, 1, 512)         14714688  \n",
      "                                                                 \n",
      " flatten_14 (Flatten)        (None, 512)               0         \n",
      "                                                                 \n",
      " dense_33 (Dense)            (None, 512)               262656    \n",
      "                                                                 \n",
      " dropout_52 (Dropout)        (None, 512)               0         \n",
      "                                                                 \n",
      " dense_34 (Dense)            (None, 256)               131328    \n",
      "                                                                 \n",
      " dropout_53 (Dropout)        (None, 256)               0         \n",
      "                                                                 \n",
      " dense_35 (Dense)            (None, 10)                2570      \n",
      "                                                                 \n",
      "=================================================================\n",
      "Total params: 15,111,242\n",
      "Trainable params: 396,554\n",
      "Non-trainable params: 14,714,688\n",
      "_________________________________________________________________\n"
     ]
    }
   ],
   "source": [
    "model_transfer.summary()"
   ]
  },
  {
   "cell_type": "code",
   "execution_count": 193,
   "id": "7c110989",
   "metadata": {},
   "outputs": [
    {
     "name": "stdout",
     "output_type": "stream",
     "text": [
      "Epoch 1/11\n",
      "782/782 [==============================] - 362s 462ms/step - loss: 1.4035 - accuracy: 0.5026 - val_loss: 1.2363 - val_accuracy: 0.5634\n",
      "Epoch 2/11\n",
      "782/782 [==============================] - 373s 478ms/step - loss: 1.2065 - accuracy: 0.5775 - val_loss: 1.1587 - val_accuracy: 0.5917\n",
      "Epoch 3/11\n",
      "782/782 [==============================] - 436s 557ms/step - loss: 1.1388 - accuracy: 0.6003 - val_loss: 1.1409 - val_accuracy: 0.5973\n",
      "Epoch 4/11\n",
      "782/782 [==============================] - 447s 572ms/step - loss: 1.0898 - accuracy: 0.6181 - val_loss: 1.1204 - val_accuracy: 0.6081\n",
      "Epoch 5/11\n",
      "782/782 [==============================] - 445s 570ms/step - loss: 1.0497 - accuracy: 0.6296 - val_loss: 1.1116 - val_accuracy: 0.6066\n",
      "Epoch 6/11\n",
      "782/782 [==============================] - 434s 555ms/step - loss: 1.0131 - accuracy: 0.6429 - val_loss: 1.1038 - val_accuracy: 0.6142\n",
      "Epoch 7/11\n",
      "782/782 [==============================] - 433s 554ms/step - loss: 0.9809 - accuracy: 0.6536 - val_loss: 1.0886 - val_accuracy: 0.6241\n",
      "Epoch 8/11\n",
      "782/782 [==============================] - 396s 507ms/step - loss: 0.9491 - accuracy: 0.6639 - val_loss: 1.1008 - val_accuracy: 0.6217\n",
      "Epoch 9/11\n",
      "782/782 [==============================] - 393s 502ms/step - loss: 0.9203 - accuracy: 0.6740 - val_loss: 1.0914 - val_accuracy: 0.6245\n",
      "Epoch 10/11\n",
      "782/782 [==============================] - 388s 497ms/step - loss: 0.8887 - accuracy: 0.6848 - val_loss: 1.1022 - val_accuracy: 0.6207\n",
      "Epoch 11/11\n",
      "782/782 [==============================] - 469s 599ms/step - loss: 0.8666 - accuracy: 0.6914 - val_loss: 1.1090 - val_accuracy: 0.6184\n"
     ]
    }
   ],
   "source": [
    "history_transfer = model_transfer.fit(X_train, y_train, validation_data = (X_test,y_test), epochs=11, batch_size=64)"
   ]
  },
  {
   "cell_type": "code",
   "execution_count": 194,
   "id": "43a20feb",
   "metadata": {},
   "outputs": [
    {
     "name": "stdout",
     "output_type": "stream",
     "text": [
      "Accuracy: 61.84%\n"
     ]
    }
   ],
   "source": [
    "score_transfer = model_transfer.evaluate(X_test,y_test,verbose=0)\n",
    "print(\"Accuracy: %.2f%%\" % (score_transfer[1]*100))"
   ]
  },
  {
   "cell_type": "code",
   "execution_count": 186,
   "id": "1ee57891",
   "metadata": {},
   "outputs": [
    {
     "name": "stdout",
     "output_type": "stream",
     "text": [
      "313/313 [==============================] - 48s 152ms/step - loss: 2.3799 - accuracy: 0.0842\n",
      "Loss:  2.3799450397491455\n",
      "Accuracy:  0.08420000225305557\n"
     ]
    }
   ],
   "source": [
    "test_loss1, test_acc1 = model_transfer.evaluate(X_test, y_test)\n",
    "print(\"Loss: \", test_loss1)\n",
    "print(\"Accuracy: \", test_acc1)"
   ]
  },
  {
   "cell_type": "code",
   "execution_count": null,
   "id": "0876a49d",
   "metadata": {},
   "outputs": [],
   "source": []
  }
 ],
 "metadata": {
  "kernelspec": {
   "display_name": "Python 3 (ipykernel)",
   "language": "python",
   "name": "python3"
  },
  "language_info": {
   "codemirror_mode": {
    "name": "ipython",
    "version": 3
   },
   "file_extension": ".py",
   "mimetype": "text/x-python",
   "name": "python",
   "nbconvert_exporter": "python",
   "pygments_lexer": "ipython3",
   "version": "3.10.9"
  }
 },
 "nbformat": 4,
 "nbformat_minor": 5
}
